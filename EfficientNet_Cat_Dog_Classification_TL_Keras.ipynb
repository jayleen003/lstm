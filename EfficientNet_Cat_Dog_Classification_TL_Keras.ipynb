{
  "nbformat": 4,
  "nbformat_minor": 0,
  "metadata": {
    "colab": {
      "name": "Untitled2.ipynb",
      "provenance": [],
      "include_colab_link": true
    },
    "kernelspec": {
      "name": "python3",
      "display_name": "Python 3"
    },
    "accelerator": "GPU"
  },
  "cells": [
    {
      "cell_type": "markdown",
      "metadata": {
        "id": "view-in-github",
        "colab_type": "text"
      },
      "source": [
        "<a href=\"https://colab.research.google.com/github/jayleen003/lstm/blob/main/EfficientNet_Cat_Dog_Classification_TL_Keras.ipynb\" target=\"_parent\"><img src=\"https://colab.research.google.com/assets/colab-badge.svg\" alt=\"Open In Colab\"/></a>"
      ]
    },
    {
      "cell_type": "code",
      "metadata": {
        "id": "vIhIa6w-9jip",
        "colab": {
          "base_uri": "https://localhost:8080/",
          "height": 599
        },
        "outputId": "75e94062-3757-4c8a-d3a7-7dbf507f7e9b"
      },
      "source": [
        "# Downgrade pillow to avoid `UserWarning: Possibly corrupt EXIF data.`\n",
        "!pip install pillow==4.0.0"
      ],
      "execution_count": 1,
      "outputs": [
        {
          "output_type": "stream",
          "name": "stdout",
          "text": [
            "Collecting pillow==4.0.0\n",
            "  Downloading Pillow-4.0.0.tar.gz (11.1 MB)\n",
            "\u001b[2K     \u001b[90m━━━━━━━━━━━━━━━━━━━━━━━━━━━━━━━━━━━━━━━━\u001b[0m \u001b[32m11.1/11.1 MB\u001b[0m \u001b[31m8.5 MB/s\u001b[0m eta \u001b[36m0:00:00\u001b[0m\n",
            "\u001b[?25h  Preparing metadata (setup.py) ... \u001b[?25l\u001b[?25hdone\n",
            "Collecting olefile (from pillow==4.0.0)\n",
            "  Downloading olefile-0.47-py2.py3-none-any.whl.metadata (9.7 kB)\n",
            "Downloading olefile-0.47-py2.py3-none-any.whl (114 kB)\n",
            "\u001b[2K   \u001b[90m━━━━━━━━━━━━━━━━━━━━━━━━━━━━━━━━━━━━━━━━\u001b[0m \u001b[32m114.6/114.6 kB\u001b[0m \u001b[31m8.0 MB/s\u001b[0m eta \u001b[36m0:00:00\u001b[0m\n",
            "\u001b[?25hBuilding wheels for collected packages: pillow\n",
            "  Building wheel for pillow (setup.py) ... \u001b[?25l\u001b[?25hdone\n",
            "  Created wheel for pillow: filename=Pillow-4.0.0-cp311-cp311-linux_x86_64.whl size=929085 sha256=676b508bea90c27940fd7734bf0bc01d62b0f59625935c119eb9344be28d8cf3\n",
            "  Stored in directory: /root/.cache/pip/wheels/d9/f3/e1/82815320c60ebe320ab25ab856fa1b22582564ff5cbbccfd82\n",
            "Successfully built pillow\n",
            "Installing collected packages: olefile, pillow\n",
            "  Attempting uninstall: pillow\n",
            "    Found existing installation: pillow 11.2.1\n",
            "    Uninstalling pillow-11.2.1:\n",
            "      Successfully uninstalled pillow-11.2.1\n",
            "\u001b[31mERROR: pip's dependency resolver does not currently take into account all the packages that are installed. This behaviour is the source of the following dependency conflicts.\n",
            "imageio 2.37.0 requires pillow>=8.3.2, but you have pillow 4.0.0 which is incompatible.\n",
            "matplotlib 3.10.0 requires pillow>=8, but you have pillow 4.0.0 which is incompatible.\n",
            "scikit-image 0.25.2 requires pillow>=10.1, but you have pillow 4.0.0 which is incompatible.\n",
            "fastai 2.7.19 requires pillow>=9.0.0, but you have pillow 4.0.0 which is incompatible.\n",
            "dopamine-rl 4.1.2 requires Pillow>=7.0.0, but you have pillow 4.0.0 which is incompatible.\n",
            "bokeh 3.7.2 requires pillow>=7.1.0, but you have pillow 4.0.0 which is incompatible.\n",
            "torchtune 0.6.1 requires Pillow>=9.4.0, but you have pillow 4.0.0 which is incompatible.\n",
            "torchvision 0.21.0+cu124 requires pillow!=8.3.*,>=5.3.0, but you have pillow 4.0.0 which is incompatible.\u001b[0m\u001b[31m\n",
            "\u001b[0mSuccessfully installed olefile-0.47 pillow-4.0.0\n"
          ]
        },
        {
          "output_type": "display_data",
          "data": {
            "application/vnd.colab-display-data+json": {
              "pip_warning": {
                "packages": [
                  "PIL"
                ]
              },
              "id": "61a8cc0a80ba47f9a0cc1f2815b35e23"
            }
          },
          "metadata": {}
        }
      ]
    },
    {
      "cell_type": "code",
      "metadata": {
        "id": "5U4rcGwS_TcL"
      },
      "source": [
        "from tensorflow.keras import models\n",
        "from tensorflow.keras import layers\n",
        "from tensorflow.keras import optimizers\n",
        "import os\n",
        "import glob\n",
        "import shutil\n",
        "import sys\n",
        "import numpy as np\n",
        "from skimage.io import imread\n",
        "import matplotlib.pyplot as plt\n",
        "from IPython.display import Image\n",
        "%matplotlib inline"
      ],
      "execution_count": null,
      "outputs": []
    },
    {
      "cell_type": "code",
      "metadata": {
        "id": "W-yNy7m1_Ttk"
      },
      "source": [
        "#hyperparameters\n",
        "batch_size = 48\n",
        "\n",
        "width = 150\n",
        "height = 150\n",
        "epochs = 20\n",
        "NUM_TRAIN = 2000\n",
        "NUM_TEST = 1000\n",
        "dropout_rate = 0.2\n",
        "input_shape = (height, width, 3)"
      ],
      "execution_count": null,
      "outputs": []
    },
    {
      "cell_type": "code",
      "metadata": {
        "id": "nbc6HNGl_T9x",
        "colab": {
          "base_uri": "https://localhost:8080/",
          "height": 168
        },
        "outputId": "da8ac78d-3b96-41bb-fff2-9bd8acdadc9f"
      },
      "source": [
        "#clone efficient repo\n",
        "import os\n",
        "%cd /content\n",
        "if not os.path.isdir(\"efficientnet_keras_transfer_learning\"):\n",
        "  !git clone https://github.com/Tony607/efficientnet_keras_transfer_learning\n",
        "%cd efficientnet_keras_transfer_learning/"
      ],
      "execution_count": null,
      "outputs": [
        {
          "output_type": "stream",
          "text": [
            "/content\n",
            "Cloning into 'efficientnet_keras_transfer_learning'...\n",
            "remote: Enumerating objects: 171, done.\u001b[K\n",
            "remote: Counting objects: 100% (171/171), done.\u001b[K\n",
            "remote: Compressing objects: 100% (74/74), done.\u001b[K\n",
            "remote: Total 171 (delta 98), reused 161 (delta 93), pack-reused 0\u001b[K\n",
            "Receiving objects: 100% (171/171), 5.44 MiB | 12.20 MiB/s, done.\n",
            "Resolving deltas: 100% (98/98), done.\n",
            "/content/efficientnet_keras_transfer_learning\n"
          ],
          "name": "stdout"
        }
      ]
    },
    {
      "cell_type": "code",
      "metadata": {
        "id": "NOmm8OHADT97",
        "colab": {
          "base_uri": "https://localhost:8080/",
          "height": 34
        },
        "outputId": "819eb4d0-c852-441b-af65-034a4f68762f"
      },
      "source": [
        "#import efficientnet and load the conv base model\n",
        "# Options: EfficientNetB0, EfficientNetB1, EfficientNetB2, EfficientNetB3\n",
        "# Higher the number, the more complex the model is.\n",
        "from efficientnet import EfficientNetB0 as Net\n",
        "from efficientnet import center_crop_and_resize, preprocess_input"
      ],
      "execution_count": null,
      "outputs": [
        {
          "output_type": "stream",
          "text": [
            "Using TensorFlow backend.\n"
          ],
          "name": "stderr"
        }
      ]
    },
    {
      "cell_type": "code",
      "metadata": {
        "id": "jNQLwuofDUIc",
        "colab": {
          "base_uri": "https://localhost:8080/",
          "height": 238
        },
        "outputId": "c2949263-9fc1-4a44-f36b-c66d4d4de8a9"
      },
      "source": [
        "# loading pretrained conv base model\n",
        "conv_base = Net(weights='imagenet', include_top=False, input_shape=input_shape)"
      ],
      "execution_count": null,
      "outputs": [
        {
          "output_type": "stream",
          "text": [
            "WARNING:tensorflow:From /content/efficientnet_keras_transfer_learning/efficientnet/model.py:67: The name tf.random_normal is deprecated. Please use tf.random.normal instead.\n",
            "\n",
            "WARNING:tensorflow:From /usr/local/lib/python3.6/dist-packages/tensorflow_core/python/ops/resource_variable_ops.py:1630: calling BaseResourceVariable.__init__ (from tensorflow.python.ops.resource_variable_ops) with constraint is deprecated and will be removed in a future version.\n",
            "Instructions for updating:\n",
            "If using Keras pass *_constraint arguments to layers.\n",
            "WARNING:tensorflow:From /usr/local/lib/python3.6/dist-packages/tensorflow_core/python/autograph/converters/directives.py:119: The name tf.random_uniform is deprecated. Please use tf.random.uniform instead.\n",
            "\n",
            "WARNING:tensorflow:From /content/efficientnet_keras_transfer_learning/efficientnet/layers.py:30: div (from tensorflow.python.ops.math_ops) is deprecated and will be removed in a future version.\n",
            "Instructions for updating:\n",
            "Deprecated in favor of operator or tf.math.divide.\n",
            "Downloading data from https://github.com/qubvel/efficientnet/releases/download/v0.0.1/efficientnet-b0_imagenet_1000_notop.h5\n",
            "16719872/16717576 [==============================] - 1s 0us/step\n"
          ],
          "name": "stdout"
        }
      ]
    },
    {
      "cell_type": "code",
      "metadata": {
        "id": "9aqPnjEKDULr",
        "colab": {
          "base_uri": "https://localhost:8080/",
          "height": 222
        },
        "outputId": "ba82b37d-1b6d-446f-eb8d-7239d1b854e3"
      },
      "source": [
        "#download cat vs dog dataset\n",
        "if not os.path.isfile(\"kagglecatsanddogs_3367a.zip\"):\n",
        "  !wget https://download.microsoft.com/download/3/E/1/3E1C3F21-ECDB-4869-8368-6DEBA77B919F/kagglecatsanddogs_3367a.zip\n",
        "  !unzip -qq kagglecatsanddogs_3367a.zip -d dog_vs_cat\n",
        "else:\n",
        "  print(\"dataset already exist.\")"
      ],
      "execution_count": null,
      "outputs": [
        {
          "output_type": "stream",
          "text": [
            "--2019-12-26 08:52:06--  https://download.microsoft.com/download/3/E/1/3E1C3F21-ECDB-4869-8368-6DEBA77B919F/kagglecatsanddogs_3367a.zip\n",
            "Resolving download.microsoft.com (download.microsoft.com)... 23.218.108.168, 2600:1406:e800:48f::e59, 2600:1406:e800:48e::e59\n",
            "Connecting to download.microsoft.com (download.microsoft.com)|23.218.108.168|:443... connected.\n",
            "HTTP request sent, awaiting response... 200 OK\n",
            "Length: 824894548 (787M) [application/octet-stream]\n",
            "Saving to: ‘kagglecatsanddogs_3367a.zip’\n",
            "\n",
            "kagglecatsanddogs_3 100%[===================>] 786.68M   189MB/s    in 4.2s    \n",
            "\n",
            "2019-12-26 08:52:10 (187 MB/s) - ‘kagglecatsanddogs_3367a.zip’ saved [824894548/824894548]\n",
            "\n"
          ],
          "name": "stdout"
        }
      ]
    },
    {
      "cell_type": "code",
      "metadata": {
        "id": "Y6_UygW5DUFU",
        "colab": {
          "base_uri": "https://localhost:8080/",
          "height": 202
        },
        "outputId": "2c291513-1e63-42c5-926e-96f4fdcdde60"
      },
      "source": [
        "!ls dog_vs_cat/PetImages/\n",
        "!ls dog_vs_cat/PetImages/Cat -l -t | head -10"
      ],
      "execution_count": null,
      "outputs": [
        {
          "output_type": "stream",
          "text": [
            "Cat  Dog\n",
            "total 408428\n",
            "-rw-r--r-- 1 root root   34297 Feb 10  2017 9955.jpg\n",
            "-rw-r--r-- 1 root root   26013 Feb 10  2017 9956.jpg\n",
            "-rw-r--r-- 1 root root   26293 Feb 10  2017 9957.jpg\n",
            "-rw-r--r-- 1 root root   36293 Feb 10  2017 9958.jpg\n",
            "-rw-r--r-- 1 root root   36690 Feb 10  2017 9959.jpg\n",
            "-rw-r--r-- 1 root root   15262 Feb 10  2017 9960.jpg\n",
            "-rw-r--r-- 1 root root   49493 Feb 10  2017 9961.jpg\n",
            "-rw-r--r-- 1 root root   14785 Feb 10  2017 9962.jpg\n",
            "-rw-r--r-- 1 root root   39717 Feb 10  2017 9963.jpg\n"
          ],
          "name": "stdout"
        }
      ]
    },
    {
      "cell_type": "code",
      "metadata": {
        "id": "dvTERC_HKzwP",
        "colab": {
          "base_uri": "https://localhost:8080/",
          "height": 50
        },
        "outputId": "93353b60-9c84-4b5c-ec71-55ad5e3b9cfb"
      },
      "source": [
        "# The path to the directory where the original\n",
        "# dataset was uncompressed\n",
        "original_dataset_dir = './dog_vs_cat/PetImages'\n",
        "\n",
        "cat_images = glob.glob(os.path.join(original_dataset_dir, \"Cat\", '*.jpg'))\n",
        "dog_images = glob.glob(os.path.join(original_dataset_dir, \"Dog\", '*.jpg'))\n",
        "print(\"total cat images: {}\\n\\rtotal dog images: {}\".format(len(cat_images), len(dog_images)))"
      ],
      "execution_count": null,
      "outputs": [
        {
          "output_type": "stream",
          "text": [
            "total cat images: 12500\n",
            "\rtotal dog images: 12500\n"
          ],
          "name": "stdout"
        }
      ]
    },
    {
      "cell_type": "code",
      "metadata": {
        "id": "zahOrt0HK0Ak"
      },
      "source": [
        "# The directory where we will\n",
        "# store our smaller dataset\n",
        "base_dir = './data/dog_vs_cat_small'\n",
        "os.makedirs(base_dir, exist_ok=True)\n",
        "\n",
        "# Directories for our training,\n",
        "# validation and test splits\n",
        "train_dir = os.path.join(base_dir, 'train')\n",
        "os.makedirs(train_dir, exist_ok=True)\n",
        "validation_dir = os.path.join(base_dir, 'validation')\n",
        "os.makedirs(validation_dir, exist_ok=True)\n",
        "test_dir = os.path.join(base_dir, 'test')\n",
        "os.makedirs(test_dir, exist_ok=True)\n",
        "\n",
        "# Directory with our training cat pictures\n",
        "train_cats_dir = os.path.join(train_dir, 'cats')\n",
        "os.makedirs(train_cats_dir, exist_ok=True)\n",
        "\n",
        "# Directory with our training dog pictures\n",
        "train_dogs_dir = os.path.join(train_dir, 'dogs')\n",
        "os.makedirs(train_dogs_dir, exist_ok=True)\n",
        "\n",
        "# Directory with our validation cat pictures\n",
        "validation_cats_dir = os.path.join(validation_dir, 'cats')\n",
        "os.makedirs(validation_cats_dir, exist_ok=True)\n",
        "\n",
        "# Directory with our validation dog pictures\n",
        "validation_dogs_dir = os.path.join(validation_dir, 'dogs')\n",
        "os.makedirs(validation_dogs_dir, exist_ok=True)\n",
        "\n",
        "# Directory with our validation cat pictures\n",
        "test_cats_dir = os.path.join(test_dir, 'cats')\n",
        "os.makedirs(test_cats_dir, exist_ok=True)\n",
        "\n",
        "# Directory with our validation dog pictures\n",
        "test_dogs_dir = os.path.join(test_dir, 'dogs')\n",
        "os.makedirs(test_dogs_dir, exist_ok=True)\n",
        "\n",
        "# Copy first NUM_TRAIN//2 cat images to train_cats_dir\n",
        "fnames = cat_images[:NUM_TRAIN//2]\n",
        "for fname in fnames:\n",
        "    dst = os.path.join(train_cats_dir, os.path.basename(fname))\n",
        "    shutil.copyfile(fname, dst)\n",
        "\n",
        "offset = NUM_TRAIN//2\n",
        "# Copy next NUM_TEST //2 cat images to validation_cats_dir\n",
        "fnames = cat_images[offset:offset + NUM_TEST // 2]\n",
        "for fname in fnames:\n",
        "    dst = os.path.join(validation_cats_dir, os.path.basename(fname))\n",
        "    shutil.copyfile(fname, dst)\n",
        "offset = offset + NUM_TEST // 2\n",
        "# Copy next NUM_TRAIN//2 cat images to test_cats_dir\n",
        "fnames = cat_images[offset:offset + NUM_TEST // 2]\n",
        "for fname in fnames:\n",
        "    dst = os.path.join(test_cats_dir, os.path.basename(fname))\n",
        "    shutil.copyfile(fname, dst)\n",
        "\n",
        "\n",
        "# Copy first NUM_TRAIN//2 dog images to train_dogs_dir\n",
        "fnames = dog_images[:NUM_TRAIN//2]\n",
        "for fname in fnames:\n",
        "    dst = os.path.join(train_dogs_dir, os.path.basename(fname))\n",
        "    shutil.copyfile(fname, dst)\n",
        "\n",
        "offset = NUM_TRAIN//2\n",
        "# Copy next NUM_TEST // 2 dog images to validation_dogs_dir\n",
        "fnames = dog_images[offset:offset + NUM_TEST // 2]\n",
        "for fname in fnames:\n",
        "    dst = os.path.join(validation_dogs_dir, os.path.basename(fname))\n",
        "    shutil.copyfile(fname, dst)\n",
        "offset = offset + NUM_TEST // 2\n",
        "\n",
        "# Copy next NUM_TEST // 2 dog images to test_dogs_dir\n",
        "fnames = dog_images[offset:offset + NUM_TEST // 2]\n",
        "for fname in fnames:\n",
        "    dst = os.path.join(test_dogs_dir, os.path.basename(fname))\n",
        "    shutil.copyfile(fname, dst)"
      ],
      "execution_count": null,
      "outputs": []
    },
    {
      "cell_type": "code",
      "metadata": {
        "id": "ebfV8uDFLQKA",
        "colab": {
          "base_uri": "https://localhost:8080/",
          "height": 118
        },
        "outputId": "2e468dd2-6539-4bdd-8664-d2c745497bdf"
      },
      "source": [
        "print('total training cat images:', len(os.listdir(train_cats_dir)))\n",
        "print('total training dog images:', len(os.listdir(train_dogs_dir)))\n",
        "print('total validation cat images:', len(os.listdir(validation_cats_dir)))\n",
        "print('total validation dog images:', len(os.listdir(validation_dogs_dir)))\n",
        "print('total test cat images:', len(os.listdir(test_cats_dir)))\n",
        "print('total test dog images:', len(os.listdir(test_dogs_dir)))"
      ],
      "execution_count": null,
      "outputs": [
        {
          "output_type": "stream",
          "text": [
            "total training cat images: 1000\n",
            "total training dog images: 1000\n",
            "total validation cat images: 500\n",
            "total validation dog images: 500\n",
            "total test cat images: 500\n",
            "total test dog images: 500\n"
          ],
          "name": "stdout"
        }
      ]
    },
    {
      "cell_type": "code",
      "metadata": {
        "id": "3D1E6GxxK0K2",
        "colab": {
          "base_uri": "https://localhost:8080/",
          "height": 50
        },
        "outputId": "ae9e02c9-f3b4-472b-a6c1-21db8cfb2028"
      },
      "source": [
        "from tensorflow.keras.preprocessing.image import ImageDataGenerator\n",
        "\n",
        "train_datagen = ImageDataGenerator(\n",
        "      rescale=1./255,\n",
        "      rotation_range=40,\n",
        "      width_shift_range=0.2,\n",
        "      height_shift_range=0.2,\n",
        "      shear_range=0.2,\n",
        "      zoom_range=0.2,\n",
        "      horizontal_flip=True,\n",
        "      fill_mode='nearest')\n",
        "\n",
        "# Note that the validation data should not be augmented!\n",
        "test_datagen = ImageDataGenerator(rescale=1./255)\n",
        "\n",
        "train_generator = train_datagen.flow_from_directory(\n",
        "        # This is the target directory\n",
        "        train_dir,\n",
        "        # All images will be resized to target height and width.\n",
        "        target_size=(height, width),\n",
        "        batch_size=batch_size,\n",
        "        # Since we use categorical_crossentropy loss, we need categorical labels\n",
        "        class_mode='categorical')\n",
        "\n",
        "validation_generator = test_datagen.flow_from_directory(\n",
        "        validation_dir,\n",
        "        target_size=(height, width),\n",
        "        batch_size=batch_size,\n",
        "        class_mode='categorical')"
      ],
      "execution_count": null,
      "outputs": [
        {
          "output_type": "stream",
          "text": [
            "Found 2000 images belonging to 2 classes.\n",
            "Found 1000 images belonging to 2 classes.\n"
          ],
          "name": "stdout"
        }
      ]
    },
    {
      "cell_type": "code",
      "metadata": {
        "id": "U6jM0HIsL6Xd"
      },
      "source": [
        "model = models.Sequential()\n",
        "model.add(conv_base)\n",
        "model.add(layers.GlobalMaxPooling2D(name=\"gap\"))\n",
        "# model.add(layers.Flatten(name=\"flatten\"))\n",
        "if dropout_rate > 0:\n",
        "    model.add(layers.Dropout(dropout_rate, name=\"dropout_out\"))\n",
        "# model.add(layers.Dense(256, activation='relu', name=\"fc1\"))\n",
        "model.add(layers.Dense(2, activation='softmax', name=\"fc_out\"))"
      ],
      "execution_count": null,
      "outputs": []
    },
    {
      "cell_type": "code",
      "metadata": {
        "id": "8Hwt4fqlK0QS",
        "colab": {
          "base_uri": "https://localhost:8080/",
          "height": 286
        },
        "outputId": "c40e3bc1-8461-4eca-ba33-bf125b3e39c9"
      },
      "source": [
        "\n",
        "model.summary()"
      ],
      "execution_count": null,
      "outputs": [
        {
          "output_type": "stream",
          "text": [
            "Model: \"sequential\"\n",
            "_________________________________________________________________\n",
            "Layer (type)                 Output Shape              Param #   \n",
            "=================================================================\n",
            "efficientnet-b0 (Model)      (None, 5, 5, 1280)        4049564   \n",
            "_________________________________________________________________\n",
            "gap (GlobalMaxPooling2D)     (None, 1280)              0         \n",
            "_________________________________________________________________\n",
            "dropout_out (Dropout)        (None, 1280)              0         \n",
            "_________________________________________________________________\n",
            "fc_out (Dense)               (None, 2)                 2562      \n",
            "=================================================================\n",
            "Total params: 4,052,126\n",
            "Trainable params: 4,010,110\n",
            "Non-trainable params: 42,016\n",
            "_________________________________________________________________\n"
          ],
          "name": "stdout"
        }
      ]
    },
    {
      "cell_type": "code",
      "metadata": {
        "id": "RYJNVB8gK0ZH",
        "colab": {
          "base_uri": "https://localhost:8080/",
          "height": 50
        },
        "outputId": "916371fe-3170-4f0f-b76f-0368ed0d42a3"
      },
      "source": [
        "print('This is the number of trainable layers '\n",
        "      'before freezing the conv base:', len(model.trainable_weights))\n",
        "\n",
        "conv_base.trainable = False\n",
        "\n",
        "print('This is the number of trainable layers '\n",
        "      'after freezing the conv base:', len(model.trainable_weights))"
      ],
      "execution_count": null,
      "outputs": [
        {
          "output_type": "stream",
          "text": [
            "This is the number of trainable layers before freezing the conv base: 213\n",
            "This is the number of trainable layers after freezing the conv base: 2\n"
          ],
          "name": "stdout"
        }
      ]
    },
    {
      "cell_type": "code",
      "metadata": {
        "id": "BDWxN2NDMPjK",
        "colab": {
          "base_uri": "https://localhost:8080/",
          "height": 1000
        },
        "outputId": "11f0f56a-79aa-4cc5-dc9f-e7b550d9a9e2"
      },
      "source": [
        "model.compile(loss='categorical_crossentropy',\n",
        "              optimizer=optimizers.RMSprop(lr=2e-5),\n",
        "              metrics=['acc'])\n",
        "history = model.fit_generator(\n",
        "      train_generator,\n",
        "      steps_per_epoch= NUM_TRAIN //batch_size,\n",
        "      epochs=epochs,\n",
        "      validation_data=validation_generator,\n",
        "      validation_steps= NUM_TEST //batch_size,\n",
        "      verbose=1,\n",
        "      use_multiprocessing=True,\n",
        "      workers=4)"
      ],
      "execution_count": null,
      "outputs": [
        {
          "output_type": "stream",
          "text": [
            "Epoch 1/20\n",
            "40/41 [============================>.] - ETA: 0s - loss: 2.0605 - acc: 0.4727Epoch 1/20\n",
            "41/41 [==============================] - 24s 589ms/step - loss: 2.0743 - acc: 0.4734 - val_loss: 1.8288 - val_acc: 0.4375\n",
            "Epoch 2/20\n",
            "40/41 [============================>.] - ETA: 0s - loss: 2.0210 - acc: 0.4753Epoch 1/20\n",
            "41/41 [==============================] - 17s 421ms/step - loss: 2.0225 - acc: 0.4749 - val_loss: 1.8197 - val_acc: 0.4479\n",
            "Epoch 3/20\n",
            "40/41 [============================>.] - ETA: 0s - loss: 2.0076 - acc: 0.4842Epoch 1/20\n",
            "41/41 [==============================] - 17s 419ms/step - loss: 2.0114 - acc: 0.4836 - val_loss: 1.7132 - val_acc: 0.4615\n",
            "Epoch 4/20\n",
            "40/41 [============================>.] - ETA: 0s - loss: 1.9104 - acc: 0.4827Epoch 1/20\n",
            "41/41 [==============================] - 17s 419ms/step - loss: 1.9034 - acc: 0.4826 - val_loss: 1.6235 - val_acc: 0.4708\n",
            "Epoch 5/20\n",
            "40/41 [============================>.] - ETA: 0s - loss: 1.9171 - acc: 0.4979Epoch 1/20\n",
            "41/41 [==============================] - 17s 421ms/step - loss: 1.9148 - acc: 0.4985 - val_loss: 1.5211 - val_acc: 0.4917\n",
            "Epoch 6/20\n",
            "40/41 [============================>.] - ETA: 0s - loss: 1.8259 - acc: 0.5037Epoch 1/20\n",
            "41/41 [==============================] - 17s 418ms/step - loss: 1.8250 - acc: 0.5020 - val_loss: 1.4405 - val_acc: 0.5104\n",
            "\n",
            "Epoch 7/20\n",
            "40/41 [============================>.] - ETA: 0s - loss: 1.7661 - acc: 0.5273Epoch 1/20\n",
            "41/41 [==============================] - 17s 424ms/step - loss: 1.7772 - acc: 0.5225 - val_loss: 1.3895 - val_acc: 0.5323\n",
            "Epoch 8/20\n",
            "40/41 [============================>.] - ETA: 0s - loss: 1.7565 - acc: 0.5151Epoch 1/20\n",
            "41/41 [==============================] - 17s 423ms/step - loss: 1.7385 - acc: 0.5183 - val_loss: 1.3382 - val_acc: 0.5406\n",
            "Epoch 9/20\n",
            "40/41 [============================>.] - ETA: 0s - loss: 1.6707 - acc: 0.5434Epoch 1/20\n",
            "41/41 [==============================] - 17s 424ms/step - loss: 1.6866 - acc: 0.5418 - val_loss: 1.2427 - val_acc: 0.5531\n",
            "Epoch 10/20\n",
            "40/41 [============================>.] - ETA: 0s - loss: 1.5257 - acc: 0.5756Epoch 1/20\n",
            "41/41 [==============================] - 18s 428ms/step - loss: 1.5233 - acc: 0.5763 - val_loss: 1.1928 - val_acc: 0.5719\n",
            "Epoch 11/20\n",
            "40/41 [============================>.] - ETA: 0s - loss: 1.6043 - acc: 0.5383Epoch 1/20\n",
            "41/41 [==============================] - 17s 417ms/step - loss: 1.5914 - acc: 0.5394 - val_loss: 1.1422 - val_acc: 0.5792\n",
            "Epoch 12/20\n",
            "40/41 [============================>.] - ETA: 0s - loss: 1.4944 - acc: 0.5672Epoch 1/20\n",
            "41/41 [==============================] - 17s 417ms/step - loss: 1.4941 - acc: 0.5671 - val_loss: 1.0880 - val_acc: 0.5948\n",
            "Epoch 13/20\n",
            "40/41 [============================>.] - ETA: 0s - loss: 1.3851 - acc: 0.5800Epoch 1/20\n",
            "41/41 [==============================] - 17s 411ms/step - loss: 1.3931 - acc: 0.5801 - val_loss: 1.0427 - val_acc: 0.6115\n",
            "Epoch 14/20\n",
            "40/41 [============================>.] - ETA: 0s - loss: 1.3916 - acc: 0.5859Epoch 1/20\n",
            "41/41 [==============================] - 17s 403ms/step - loss: 1.4029 - acc: 0.5840 - val_loss: 0.9955 - val_acc: 0.6219\n",
            "Epoch 15/20\n",
            "40/41 [============================>.] - ETA: 0s - loss: 1.3370 - acc: 0.5865Epoch 1/20\n",
            "41/41 [==============================] - 17s 410ms/step - loss: 1.3373 - acc: 0.5869 - val_loss: 0.9596 - val_acc: 0.6302\n",
            "Epoch 16/20\n",
            "40/41 [============================>.] - ETA: 0s - loss: 1.4434 - acc: 0.5810Epoch 1/20\n",
            "41/41 [==============================] - 17s 412ms/step - loss: 1.4422 - acc: 0.5821 - val_loss: 0.9236 - val_acc: 0.6448\n",
            "Epoch 17/20\n",
            "40/41 [============================>.] - ETA: 0s - loss: 1.3671 - acc: 0.5927Epoch 1/20\n",
            "41/41 [==============================] - 17s 419ms/step - loss: 1.3852 - acc: 0.5910 - val_loss: 0.8844 - val_acc: 0.6656\n",
            "Epoch 18/20\n",
            "40/41 [============================>.] - ETA: 0s - loss: 1.3069 - acc: 0.6128Epoch 1/20\n",
            "41/41 [==============================] - 17s 409ms/step - loss: 1.3013 - acc: 0.6142 - val_loss: 0.8713 - val_acc: 0.6740\n",
            "Epoch 19/20\n",
            "40/41 [============================>.] - ETA: 0s - loss: 1.3280 - acc: 0.5990Epoch 1/20\n",
            "41/41 [==============================] - 17s 414ms/step - loss: 1.3138 - acc: 0.5996 - val_loss: 0.8398 - val_acc: 0.6844\n",
            "Epoch 20/20\n",
            "40/41 [============================>.] - ETA: 0s - loss: 1.2988 - acc: 0.6176Epoch 1/20\n",
            "41/41 [==============================] - 17s 411ms/step - loss: 1.3001 - acc: 0.6163 - val_loss: 0.7967 - val_acc: 0.6948\n"
          ],
          "name": "stdout"
        }
      ]
    },
    {
      "cell_type": "code",
      "metadata": {
        "id": "uQFy0YKXMPs9",
        "colab": {
          "base_uri": "https://localhost:8080/",
          "height": 545
        },
        "outputId": "e4250a6d-e517-4a53-8290-6b4cbe23ab33"
      },
      "source": [
        "acc = history.history['acc']\n",
        "val_acc = history.history['val_acc']\n",
        "loss = history.history['loss']\n",
        "val_loss = history.history['val_loss']\n",
        "\n",
        "epochs_x = range(len(acc))\n",
        "\n",
        "plt.plot(epochs_x, acc, 'bo', label='Training acc')\n",
        "plt.plot(epochs_x, val_acc, 'b', label='Validation acc')\n",
        "plt.title('Training and validation accuracy')\n",
        "plt.legend()\n",
        "\n",
        "plt.figure()\n",
        "\n",
        "plt.plot(epochs_x, loss, 'bo', label='Training loss')\n",
        "plt.plot(epochs_x, val_loss, 'b', label='Validation loss')\n",
        "plt.title('Training and validation loss')\n",
        "plt.legend()\n",
        "\n",
        "plt.show()"
      ],
      "execution_count": null,
      "outputs": [
        {
          "output_type": "display_data",
          "data": {
            "image/png": "[encoded data removed]",
            "text/plain": [
              "<Figure size 432x288 with 1 Axes>"
            ]
          },
          "metadata": {
            "tags": []
          }
        },
        {
          "output_type": "display_data",
          "data": {
            "image/png": "[encoded data removed]",
            "text/plain": [
              "<Figure size 432x288 with 1 Axes>"
            ]
          },
          "metadata": {
            "tags": []
          }
        }
      ]
    },
    {
      "cell_type": "code",
      "metadata": {
        "id": "SRXCxNtLMPzf"
      },
      "source": [
        "#fine tuning last layers\n",
        "# multiply_16\n",
        "# set 'multiply_16' and following layers trainable\n",
        "conv_base.trainable = True\n",
        "\n",
        "set_trainable = False\n",
        "for layer in conv_base.layers:\n",
        "    if layer.name == 'multiply_16':\n",
        "        set_trainable = True\n",
        "    if set_trainable:\n",
        "        layer.trainable = True\n",
        "    else:\n",
        "        layer.trainable = False"
      ],
      "execution_count": null,
      "outputs": []
    },
    {
      "cell_type": "code",
      "metadata": {
        "id": "ThVsgWbLMP6F",
        "colab": {
          "base_uri": "https://localhost:8080/",
          "height": 1000
        },
        "outputId": "76b67815-bcbd-41fd-ff80-c9e4d9aa071a"
      },
      "source": [
        "model.compile(loss='categorical_crossentropy',\n",
        "              optimizer=optimizers.RMSprop(lr=2e-5),\n",
        "              metrics=['acc'])\n",
        "\n",
        "history = model.fit_generator(\n",
        "      train_generator,\n",
        "      steps_per_epoch= NUM_TRAIN //batch_size,\n",
        "      epochs=epochs,\n",
        "      validation_data=validation_generator,\n",
        "      validation_steps= NUM_TEST //batch_size,\n",
        "      verbose=1,\n",
        "      use_multiprocessing=True,\n",
        "      workers=4)"
      ],
      "execution_count": null,
      "outputs": [
        {
          "output_type": "stream",
          "text": [
            "Epoch 1/20\n",
            "40/41 [============================>.] - ETA: 0s - loss: 1.2660 - acc: 0.6150Epoch 1/20\n",
            "41/41 [==============================] - 18s 433ms/step - loss: 1.2624 - acc: 0.6142 - val_loss: 0.7718 - val_acc: 0.6990\n",
            "Epoch 2/20\n",
            "40/41 [============================>.] - ETA: 0s - loss: 1.2589 - acc: 0.6082Epoch 1/20\n",
            "41/41 [==============================] - 17s 422ms/step - loss: 1.2666 - acc: 0.6076 - val_loss: 0.7549 - val_acc: 0.7073\n",
            "Epoch 3/20\n",
            "40/41 [============================>.] - ETA: 0s - loss: 1.2294 - acc: 0.6119Epoch 1/20\n",
            "41/41 [==============================] - 17s 419ms/step - loss: 1.2318 - acc: 0.6101 - val_loss: 0.7287 - val_acc: 0.7125\n",
            "Epoch 4/20\n",
            "40/41 [============================>.] - ETA: 0s - loss: 1.1820 - acc: 0.6250Epoch 1/20\n",
            "41/41 [==============================] - 17s 416ms/step - loss: 1.1728 - acc: 0.6255 - val_loss: 0.7275 - val_acc: 0.7156\n",
            "Epoch 5/20\n",
            "40/41 [============================>.] - ETA: 0s - loss: 1.1378 - acc: 0.6450Epoch 1/20\n",
            "41/41 [==============================] - 17s 421ms/step - loss: 1.1434 - acc: 0.6445 - val_loss: 0.6947 - val_acc: 0.7302\n",
            "Epoch 6/20\n",
            "40/41 [============================>.] - ETA: 0s - loss: 1.1024 - acc: 0.6570Epoch 1/20\n",
            "41/41 [==============================] - 17s 421ms/step - loss: 1.1053 - acc: 0.6568 - val_loss: 0.6948 - val_acc: 0.7375\n",
            "Epoch 7/20\n",
            "40/41 [============================>.] - ETA: 0s - loss: 1.1035 - acc: 0.6460Epoch 1/20\n",
            "41/41 [==============================] - 17s 424ms/step - loss: 1.1182 - acc: 0.6460 - val_loss: 0.6883 - val_acc: 0.7396\n",
            "Epoch 8/20\n",
            "40/41 [============================>.] - ETA: 0s - loss: 1.1439 - acc: 0.6607Epoch 1/20\n",
            "41/41 [==============================] - 17s 421ms/step - loss: 1.1418 - acc: 0.6588 - val_loss: 0.6516 - val_acc: 0.7542\n",
            "Epoch 9/20\n",
            "40/41 [============================>.] - ETA: 0s - loss: 1.1298 - acc: 0.6460Epoch 1/20\n",
            "41/41 [==============================] - 17s 424ms/step - loss: 1.1262 - acc: 0.6475 - val_loss: 0.6514 - val_acc: 0.7542\n",
            "Epoch 10/20\n",
            "40/41 [============================>.] - ETA: 0s - loss: 1.0449 - acc: 0.6620Epoch 1/20\n",
            "41/41 [==============================] - 17s 414ms/step - loss: 1.0473 - acc: 0.6611 - val_loss: 0.6583 - val_acc: 0.7573\n",
            "Epoch 11/20\n",
            "40/41 [============================>.] - ETA: 0s - loss: 1.0555 - acc: 0.6817Epoch 1/20\n",
            "41/41 [==============================] - 17s 422ms/step - loss: 1.0488 - acc: 0.6803 - val_loss: 0.6276 - val_acc: 0.7625\n",
            "Epoch 12/20\n",
            "40/41 [============================>.] - ETA: 0s - loss: 1.0301 - acc: 0.6732Epoch 1/20\n",
            "20/41 [=============>................] - ETA: 5s - loss: 0.6170 - acc: 0.7688Epoch 1/20\n",
            "41/41 [==============================] - 17s 417ms/step - loss: 1.0261 - acc: 0.6746 - val_loss: 0.6170 - val_acc: 0.7688\n",
            "Epoch 13/20\n",
            "40/41 [============================>.] - ETA: 0s - loss: 0.9995 - acc: 0.6623Epoch 1/20\n",
            "41/41 [==============================] - 17s 407ms/step - loss: 1.0088 - acc: 0.6609 - val_loss: 0.6122 - val_acc: 0.7688\n",
            "Epoch 14/20\n",
            "40/41 [============================>.] - ETA: 0s - loss: 0.9846 - acc: 0.6933Epoch 1/20\n",
            "41/41 [==============================] - 17s 412ms/step - loss: 0.9917 - acc: 0.6921 - val_loss: 0.6047 - val_acc: 0.7740\n",
            "Epoch 15/20\n",
            "40/41 [============================>.] - ETA: 0s - loss: 1.0136 - acc: 0.6833Epoch 1/20\n",
            "41/41 [==============================] - 17s 406ms/step - loss: 1.0179 - acc: 0.6814 - val_loss: 0.5827 - val_acc: 0.7792\n",
            "Epoch 16/20\n",
            "40/41 [============================>.] - ETA: 0s - loss: 0.9773 - acc: 0.6933Epoch 1/20\n",
            "41/41 [==============================] - 17s 414ms/step - loss: 0.9779 - acc: 0.6947 - val_loss: 0.5898 - val_acc: 0.7823\n",
            "Epoch 17/20\n",
            "40/41 [============================>.] - ETA: 0s - loss: 0.9984 - acc: 0.6864Epoch 1/20\n",
            "41/41 [==============================] - 16s 401ms/step - loss: 1.0023 - acc: 0.6870 - val_loss: 0.5742 - val_acc: 0.7844\n",
            "Epoch 18/20\n",
            "40/41 [============================>.] - ETA: 0s - loss: 0.8927 - acc: 0.7148Epoch 1/20\n",
            "41/41 [==============================] - 17s 412ms/step - loss: 0.8884 - acc: 0.7152 - val_loss: 0.5795 - val_acc: 0.7844\n",
            "Epoch 19/20\n",
            "40/41 [============================>.] - ETA: 0s - loss: 0.9990 - acc: 0.6891Epoch 1/20\n",
            "41/41 [==============================] - 17s 409ms/step - loss: 1.0023 - acc: 0.6880 - val_loss: 0.5594 - val_acc: 0.7875\n",
            "Epoch 20/20\n",
            "40/41 [============================>.] - ETA: 0s - loss: 0.9541 - acc: 0.7068Epoch 1/20\n",
            "41/41 [==============================] - 17s 422ms/step - loss: 0.9500 - acc: 0.7068 - val_loss: 0.5728 - val_acc: 0.7833\n"
          ],
          "name": "stdout"
        }
      ]
    },
    {
      "cell_type": "code",
      "metadata": {
        "id": "Yr9D_66CRTDQ"
      },
      "source": [
        "\n",
        "os.makedirs(\"./models\", exist_ok=True)\n",
        "model.save('./models/cats_and_dogs_small.h5')"
      ],
      "execution_count": null,
      "outputs": []
    },
    {
      "cell_type": "code",
      "metadata": {
        "id": "_10HAddLRTRt",
        "colab": {
          "base_uri": "https://localhost:8080/",
          "height": 545
        },
        "outputId": "5d1ac3fc-a564-4517-f3af-666499a06852"
      },
      "source": [
        "acc = history.history['acc']\n",
        "val_acc = history.history['val_acc']\n",
        "loss = history.history['loss']\n",
        "val_loss = history.history['val_loss']\n",
        "\n",
        "epochs_x = range(len(acc))\n",
        "\n",
        "plt.plot(epochs_x, acc, 'bo', label='Training acc')\n",
        "plt.plot(epochs_x, val_acc, 'b', label='Validation acc')\n",
        "plt.title('Training and validation accuracy')\n",
        "plt.legend()\n",
        "\n",
        "plt.figure()\n",
        "\n",
        "plt.plot(epochs_x, loss, 'bo', label='Training loss')\n",
        "plt.plot(epochs_x, val_loss, 'b', label='Validation loss')\n",
        "plt.title('Training and validation loss')\n",
        "plt.legend()\n",
        "\n",
        "plt.show()"
      ],
      "execution_count": null,
      "outputs": [
        {
          "output_type": "display_data",
          "data": {
            "image/png": "[encoded data removed]",
            "text/plain": [
              "<Figure size 432x288 with 1 Axes>"
            ]
          },
          "metadata": {
            "tags": []
          }
        },
        {
          "output_type": "display_data",
          "data": {
            "image/png": "[encoded data removed]",
            "text/plain": [
              "<Figure size 432x288 with 1 Axes>"
            ]
          },
          "metadata": {
            "tags": []
          }
        }
      ]
    },
    {
      "cell_type": "code",
      "metadata": {
        "id": "FIgbWWaWRaG2"
      },
      "source": [
        "#test predict\n",
        "cat_img = cat_images[-1]\n",
        "dog_img= dog_images[-1]"
      ],
      "execution_count": null,
      "outputs": []
    },
    {
      "cell_type": "code",
      "metadata": {
        "id": "t4ImNFqtRaVs",
        "colab": {
          "base_uri": "https://localhost:8080/",
          "height": 326
        },
        "outputId": "20326582-5753-4bd3-f97f-ea919889f085"
      },
      "source": [
        "Image(filename=cat_img)"
      ],
      "execution_count": null,
      "outputs": [
        {
          "output_type": "execute_result",
          "data": {
            "image/jpeg": "[encoded data removed]",
            "text/plain": [
              "<IPython.core.display.Image object>"
            ]
          },
          "metadata": {
            "tags": []
          },
          "execution_count": 26
        }
      ]
    },
    {
      "cell_type": "code",
      "metadata": {
        "id": "6CkIpS5KRj1A",
        "colab": {
          "base_uri": "https://localhost:8080/",
          "height": 392
        },
        "outputId": "694a56df-0fbf-4870-c56f-30c1a650b7ab"
      },
      "source": [
        "Image(filename=dog_img)"
      ],
      "execution_count": null,
      "outputs": [
        {
          "output_type": "execute_result",
          "data": {
            "image/jpeg": "[encoded data removed]",
            "text/plain": [
              "<IPython.core.display.Image object>"
            ]
          },
          "metadata": {
            "tags": []
          },
          "execution_count": 27
        }
      ]
    },
    {
      "cell_type": "code",
      "metadata": {
        "id": "i9nzEo_bRkAy",
        "colab": {
          "base_uri": "https://localhost:8080/",
          "height": 50
        },
        "outputId": "fbc94d7b-a9e8-41f6-d6a3-4a4931408404"
      },
      "source": [
        "\n",
        "from tensorflow.keras.preprocessing import image\n",
        "\n",
        "def predict_image(img_path):\n",
        "    # Read the image and resize it\n",
        "    img = image.load_img(img_path, target_size=(height, width))\n",
        "    # Convert it to a Numpy array with target shape.\n",
        "    x = image.img_to_array(img)\n",
        "    # Reshape\n",
        "    x = x.reshape((1,) + x.shape)\n",
        "    x /= 255.\n",
        "    result = model.predict([x])[0][0]\n",
        "    if result > 0.5:\n",
        "        animal = \"cat\"\n",
        "    else:\n",
        "        animal = \"dog\"\n",
        "        result = 1 - result\n",
        "    return animal,result\n",
        "\n",
        "print(predict_image(cat_img))\n",
        "print(predict_image(dog_img))"
      ],
      "execution_count": null,
      "outputs": [
        {
          "output_type": "stream",
          "text": [
            "('cat', 0.9135669)\n",
            "('dog', 0.6510244905948639)\n"
          ],
          "name": "stdout"
        }
      ]
    },
    {
      "cell_type": "code",
      "metadata": {
        "id": "a0DXNfYURkI4"
      },
      "source": [
        "from google.colab import files\n",
        "\n",
        "files.download('./models/cats_and_dogs_small.h5')"
      ],
      "execution_count": null,
      "outputs": []
    },
    {
      "cell_type": "code",
      "metadata": {
        "id": "3XSJJDZ4RumL",
        "colab": {
          "base_uri": "https://localhost:8080/",
          "height": 34
        },
        "outputId": "fa957658-cc9c-446a-aec0-04d865487763"
      },
      "source": [
        "model.input_shape"
      ],
      "execution_count": null,
      "outputs": [
        {
          "output_type": "execute_result",
          "data": {
            "text/plain": [
              "(None, 150, 150, 3)"
            ]
          },
          "metadata": {
            "tags": []
          },
          "execution_count": 31
        }
      ]
    },
    {
      "cell_type": "code",
      "metadata": {
        "id": "OUySTufoRuvL"
      },
      "source": [
        "from efficientnet.layers import Swish, DropConnect\n",
        "from efficientnet.model import ConvKernalInitializer\n",
        "from tensorflow.keras.utils import get_custom_objects\n",
        "\n",
        "get_custom_objects().update({\n",
        "    'ConvKernalInitializer': ConvKernalInitializer,\n",
        "    'Swish': Swish,\n",
        "    'DropConnect':DropConnect\n",
        "})"
      ],
      "execution_count": null,
      "outputs": []
    },
    {
      "cell_type": "code",
      "metadata": {
        "id": "9JE9O-OnRu0U",
        "colab": {
          "base_uri": "https://localhost:8080/",
          "height": 188
        },
        "outputId": "d5e21337-1ee4-4279-8964-e4ff973db2ad"
      },
      "source": [
        "from tensorflow.keras.models import load_model\n",
        "model = load_model(\"./models/cats_and_dogs_small.h5\")"
      ],
      "execution_count": null,
      "outputs": [
        {
          "output_type": "stream",
          "text": [
            "WARNING:tensorflow:From /usr/local/lib/python3.6/dist-packages/tensorflow_core/python/ops/init_ops.py:97: calling Zeros.__init__ (from tensorflow.python.ops.init_ops) with dtype is deprecated and will be removed in a future version.\n",
            "Instructions for updating:\n",
            "Call initializer instance with the dtype argument instead of passing it to the constructor\n",
            "WARNING:tensorflow:From /usr/local/lib/python3.6/dist-packages/tensorflow_core/python/ops/init_ops.py:97: calling Ones.__init__ (from tensorflow.python.ops.init_ops) with dtype is deprecated and will be removed in a future version.\n",
            "Instructions for updating:\n",
            "Call initializer instance with the dtype argument instead of passing it to the constructor\n",
            "WARNING:tensorflow:From /usr/local/lib/python3.6/dist-packages/tensorflow_core/python/ops/init_ops.py:97: calling GlorotUniform.__init__ (from tensorflow.python.ops.init_ops) with dtype is deprecated and will be removed in a future version.\n",
            "Instructions for updating:\n",
            "Call initializer instance with the dtype argument instead of passing it to the constructor\n"
          ],
          "name": "stdout"
        }
      ]
    }
  ]
}